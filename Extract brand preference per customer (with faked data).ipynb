{
 "cells": [
  {
   "cell_type": "code",
   "execution_count": 1,
   "id": "dc57bdca",
   "metadata": {},
   "outputs": [],
   "source": [
    "import requests\n",
    "import re\n",
    "from string import ascii_lowercase\n",
    "import random\n",
    "from collections import defaultdict\n",
    "from csv import writer"
   ]
  },
  {
   "cell_type": "markdown",
   "id": "ae9a6362",
   "metadata": {},
   "source": [
    "### Extract brand preference from click data\n",
    "\n",
    "In this notebook, I'm extracting the brand preference per client from click data.\n",
    "\n",
    "\n",
    "##### Input\n",
    "Click data, for example from email clicks or visit data.\n",
    "\n",
    "##### Output\n",
    "CSV with ranked brand preference per client. \n",
    "\n",
    "##### Example output\n",
    "1,k.dreus@gmail.com,Nike,5\\\n",
    "k.dreus@gmail.com,Adidas,3\\\n",
    "k.dreus@gmail.com,Under Armour,2\\\n",
    "k.dreus@gmail.com,Skechers,1\\\n",
    "koen@gmail.com,Adidas,3\\\n",
    "koen@gmail.com,Nike,1\\\n",
    "etc."
   ]
  },
  {
   "cell_type": "code",
   "execution_count": 2,
   "id": "c13d9348",
   "metadata": {},
   "outputs": [],
   "source": [
    "# define number of favorite brands per customer\n",
    "most_favorite_brands = 3"
   ]
  },
  {
   "cell_type": "code",
   "execution_count": 3,
   "id": "bddac164",
   "metadata": {},
   "outputs": [],
   "source": [
    "# download content of nelson.nl homepage and extract links with regex library\n",
    "response = requests.get('https://www.nelson.nl/')\n",
    "links = re.findall('<a href=\"(\\/.*?\\/)\">', str(response.content))"
   ]
  },
  {
   "cell_type": "code",
   "execution_count": 4,
   "id": "b315ac6d",
   "metadata": {},
   "outputs": [
    {
     "name": "stdout",
     "output_type": "stream",
     "text": [
      "['/cookies/', '/schoenen/boots/', '/schoenen/laarzen/', '/schoenen/veterschoenen/', '/dames/schoenen/sneakers/']\n"
     ]
    }
   ],
   "source": [
    "# create a dataset with URL's and check validity of each URL (response code is 200)\n",
    "valid_url_list = []\n",
    "\n",
    "for url in links:\n",
    "    response = requests.get(f'https://www.nelson.nl/{url}')\n",
    "    if response.status_code == 200:\n",
    "        valid_url_list.append(url)\n",
    "        \n",
    "print(valid_url_list[:5])"
   ]
  },
  {
   "cell_type": "code",
   "execution_count": 5,
   "id": "2b03e2e4",
   "metadata": {},
   "outputs": [],
   "source": [
    "# create fake customer email addresses\n",
    "domains = ['@hotmail.com', '@gmail.com', '@outlook.com', '@yahoo.com']\n",
    "customer_list = []\n",
    "\n",
    "for num in range(150):\n",
    "    random_string = []\n",
    "    for letter in range(10):\n",
    "        random_string.append(random.choice(ascii_lowercase))\n",
    "    email = ''.join(random_string + [random.choice(domains)])\n",
    "    customer_list.append(email)"
   ]
  },
  {
   "cell_type": "code",
   "execution_count": 6,
   "id": "14dc7fbf",
   "metadata": {},
   "outputs": [],
   "source": [
    "# create fake dataset of url journey per customer\n",
    "url_path_per_customer = []\n",
    "\n",
    "for email in customer_list:\n",
    "    random_number = random.randint(1, 50)\n",
    "    for num in range(random_number):\n",
    "        url_path_per_customer.append([email, random.choice(valid_url_list)])"
   ]
  },
  {
   "cell_type": "code",
   "execution_count": 7,
   "id": "901a67ac",
   "metadata": {},
   "outputs": [],
   "source": [
    "# manually created brand slug dictionary. Normally to be gotten through the API.\n",
    "brand_slug_dict = {'dr-martens': 'Dr. Martens',\n",
    "'skechers': 'Skechers',\n",
    "'ara': 'Ara',\n",
    "'maruti': 'Maruti',\n",
    "'converse': 'Converse',\n",
    "'mexx': 'Mexx',\n",
    "'ecco': 'Ecco',\n",
    "'cruyff': 'Cruyff',\n",
    "'van-lier': 'Van Lier',\n",
    "'la-strada': 'La Strada',\n",
    "'hugo-boss': 'Hugo Boss',\n",
    "'guess':'Guess',\n",
    "'gabor': 'Gabor',\n",
    "'kipling': 'Kipling',\n",
    "'timberland': 'Timberland',\n",
    "'birkenstock': 'Birkenstock'}"
   ]
  },
  {
   "cell_type": "code",
   "execution_count": 8,
   "id": "c929034d",
   "metadata": {},
   "outputs": [],
   "source": [
    "# extract score per customer. One pageview on a branded url (e.g. /schoenen/merk:skechers) scores one point!\n",
    "ddict = defaultdict(dict)\n",
    "\n",
    "for email, url in url_path_per_customer:\n",
    "    for brand_slug in brand_slug_dict.keys():\n",
    "        if brand_slug in url:\n",
    "            brand = brand_slug_dict[brand_slug]\n",
    "            if brand in ddict[email]:\n",
    "                ddict[email][brand] += 1\n",
    "            else:\n",
    "                ddict[email][brand] = 1"
   ]
  },
  {
   "cell_type": "code",
   "execution_count": 10,
   "id": "a4dbca09",
   "metadata": {},
   "outputs": [],
   "source": [
    "#...and write to csv\n",
    "with open('dump_favo_brand.csv', 'w', newline = '') as f:\n",
    "    csv_writer = writer(f)\n",
    "    csv_writer.writerow(['rank', 'email', 'brand', 'score', 'description'])\n",
    "    \n",
    "    for k, v in ddict.items():\n",
    "        \n",
    "        # sort values in second dictionary\n",
    "        v = sorted(zip(v.values(), v.keys()), reverse = True)\n",
    "        \n",
    "        # enumerate and write to csv\n",
    "        for num, (key, value) in enumerate(v):\n",
    "            if num == 0:\n",
    "                csv_writer.writerow([num + 1, k, value, key, 'primary'])\n",
    "            elif num < most_favorite_brands:\n",
    "                csv_writer.writerow([num + 1, k, value, key, 'secondary'])\n",
    "            else:\n",
    "                break"
   ]
  },
  {
   "cell_type": "code",
   "execution_count": null,
   "id": "49b1e174",
   "metadata": {},
   "outputs": [],
   "source": []
  }
 ],
 "metadata": {
  "kernelspec": {
   "display_name": "Python 3 (ipykernel)",
   "language": "python",
   "name": "python3"
  },
  "language_info": {
   "codemirror_mode": {
    "name": "ipython",
    "version": 3
   },
   "file_extension": ".py",
   "mimetype": "text/x-python",
   "name": "python",
   "nbconvert_exporter": "python",
   "pygments_lexer": "ipython3",
   "version": "3.9.7"
  }
 },
 "nbformat": 4,
 "nbformat_minor": 5
}
